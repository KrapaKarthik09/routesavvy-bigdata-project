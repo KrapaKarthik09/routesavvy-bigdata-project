{
 "cells": [
  {
   "cell_type": "code",
   "execution_count": 13,
   "id": "f0f81f31",
   "metadata": {},
   "outputs": [
    {
     "name": "stderr",
     "output_type": "stream",
     "text": [
      "WARNING:root:Requests made without an app_token will be subject to strict throttling limits.\n"
     ]
    },
    {
     "name": "stdout",
     "output_type": "stream",
     "text": [
      "Available Columns:\n",
      "Index(['transit_timestamp', 'transit_mode', 'station_complex_id',\n",
      "       'station_complex', 'borough', 'payment_method', 'fare_class_category',\n",
      "       'ridership', 'transfers', 'latitude', 'longitude', 'georeference',\n",
      "       ':@computed_region_kjdx_g34t', ':@computed_region_yamh_8v7k',\n",
      "       ':@computed_region_wbg7_3whc'],\n",
      "      dtype='object')\n"
     ]
    }
   ],
   "source": [
    "import pandas as pd\n",
    "from sodapy import Socrata\n",
    "\n",
    "# Connect to the data.ny.gov API\n",
    "client = Socrata(\"data.ny.gov\", None)\n",
    "\n",
    "# Fetch a sample of the data to inspect the columns\n",
    "sample_results = client.get(\"wujg-7c2s\", limit=5)\n",
    "\n",
    "# Convert to pandas DataFrame\n",
    "sample_df = pd.DataFrame.from_records(sample_results)\n",
    "\n",
    "# Print the available columns\n",
    "print(\"Available Columns:\")\n",
    "print(sample_df.columns)\n"
   ]
  },
  {
   "cell_type": "code",
   "execution_count": 20,
   "id": "fa2bc188",
   "metadata": {},
   "outputs": [
    {
     "name": "stderr",
     "output_type": "stream",
     "text": [
      "WARNING:root:Requests made without an app_token will be subject to strict throttling limits.\n"
     ]
    },
    {
     "data": {
      "text/plain": [
       "'./data/may_17_2024_full_day.csv'"
      ]
     },
     "execution_count": 20,
     "metadata": {},
     "output_type": "execute_result"
    }
   ],
   "source": [
    "import pandas as pd\n",
    "from sodapy import Socrata\n",
    "from datetime import datetime, timedelta\n",
    "import os\n",
    "\n",
    "# Connect to the data.ny.gov API\n",
    "client = Socrata(\"data.ny.gov\", None)\n",
    "\n",
    "# Define the start and end times for May 17, 2024\n",
    "start_time = \"2024-05-17T00:00:00.000\"\n",
    "end_time = \"2024-05-17T23:59:59.999\"\n",
    "\n",
    "# Fetch all data for May 17, 2024\n",
    "results = client.get(\n",
    "    \"wujg-7c2s\",\n",
    "    where=f\"transit_timestamp >= '{start_time}' AND transit_timestamp <= '{end_time}'\",\n",
    "    limit=50000  # Set a higher limit to capture all records\n",
    ")\n",
    "\n",
    "# Convert to pandas DataFrame\n",
    "results_df = pd.DataFrame.from_records(results)\n",
    "\n",
    "# Generate timestamps for every second of the day\n",
    "start_time_dt = datetime(2024, 5, 17, 0, 0, 0)\n",
    "timestamps = [start_time_dt + timedelta(seconds=i) for i in range(86400)]\n",
    "\n",
    "# Create a DataFrame with all timestamps\n",
    "timestamps_df = pd.DataFrame(timestamps, columns=[\"transit_timestamp\"])\n",
    "timestamps_df[\"transit_timestamp\"] = timestamps_df[\"transit_timestamp\"].dt.strftime(\"%Y-%m-%dT%H:%M:%S.000\")\n",
    "\n",
    "# Merge the generated timestamps with actual data\n",
    "merged_df = pd.merge(timestamps_df, results_df, on=\"transit_timestamp\", how=\"left\")\n",
    "\n",
    "# Save the complete data to CSV\n",
    "os.makedirs(\"./data\", exist_ok=True)\n",
    "file_path = \"./data/may_17_2024_full_day.csv\"\n",
    "merged_df.to_csv(file_path, index=False)\n",
    "\n",
    "file_path\n"
   ]
  },
  {
   "cell_type": "code",
   "execution_count": null,
   "id": "ed08bc03",
   "metadata": {},
   "outputs": [],
   "source": []
  }
 ],
 "metadata": {
  "kernelspec": {
   "display_name": "routesavvy_env",
   "language": "python",
   "name": "python3"
  },
  "language_info": {
   "codemirror_mode": {
    "name": "ipython",
    "version": 3
   },
   "file_extension": ".py",
   "mimetype": "text/x-python",
   "name": "python",
   "nbconvert_exporter": "python",
   "pygments_lexer": "ipython3",
   "version": "3.11.0"
  }
 },
 "nbformat": 4,
 "nbformat_minor": 5
}
